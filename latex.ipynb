{
 "cells": [
  {
   "cell_type": "markdown",
   "metadata": {},
   "source": [
    "# Latex in Python\n",
    "This is a quick investigation on how to generate Latex documents (and PDFs) in Python.\n",
    "\n",
    "To run the main.py, first do the following steps:\n",
    "* Install [PyLaTeX](https://jeltef.github.io/PyLaTeX) python library\n",
    "<code>pip install pylatex</code>\n",
    "* Install [MiKTeX](https://miktex.org/download)\n",
    "* Update the latex_path variable value in the main.py to where latex.exe can be found"
   ]
  },
  {
   "cell_type": "markdown",
   "metadata": {},
   "source": [
    "# Arguments"
   ]
  },
  {
   "cell_type": "code",
   "execution_count": 4,
   "metadata": {},
   "outputs": [],
   "source": [
    "file_name = 'report'\n",
    "csv_file = 'http://www.sharecsv.com/dl/7c753c23f488200346d44a420d9ce162/data.csv'\n",
    "report_title = 'Economic Analysis'\n",
    "repot_author = 'Ryan Behdad'\n",
    "# latex_path = 'C:/Users/ryan.behdad/AppData/Local/Programs/MiKTeX 2.9/miktex/bin/x64/'"
   ]
  },
  {
   "cell_type": "markdown",
   "metadata": {},
   "source": [
    "# Main code"
   ]
  },
  {
   "cell_type": "code",
   "execution_count": null,
   "metadata": {},
   "outputs": [],
   "source": [
    "# install pylatex\n",
    "!pip install pylatex\n",
    "!pip install pandas"
   ]
  },
  {
   "cell_type": "code",
   "execution_count": 5,
   "metadata": {},
   "outputs": [
    {
     "data": {
      "text/html": [
       "<div>\n",
       "<style scoped>\n",
       "    .dataframe tbody tr th:only-of-type {\n",
       "        vertical-align: middle;\n",
       "    }\n",
       "\n",
       "    .dataframe tbody tr th {\n",
       "        vertical-align: top;\n",
       "    }\n",
       "\n",
       "    .dataframe thead th {\n",
       "        text-align: right;\n",
       "    }\n",
       "</style>\n",
       "<table border=\"1\" class=\"dataframe\">\n",
       "  <thead>\n",
       "    <tr style=\"text-align: right;\">\n",
       "      <th></th>\n",
       "      <th>CF</th>\n",
       "      <th>Year</th>\n",
       "      <th>Month</th>\n",
       "      <th>Day</th>\n",
       "      <th>Months Passed</th>\n",
       "    </tr>\n",
       "  </thead>\n",
       "  <tbody>\n",
       "    <tr>\n",
       "      <td>0</td>\n",
       "      <td>-5000</td>\n",
       "      <td>92</td>\n",
       "      <td>4</td>\n",
       "      <td>25</td>\n",
       "      <td>0.0</td>\n",
       "    </tr>\n",
       "    <tr>\n",
       "      <td>1</td>\n",
       "      <td>-1000</td>\n",
       "      <td>92</td>\n",
       "      <td>12</td>\n",
       "      <td>27</td>\n",
       "      <td>8.1</td>\n",
       "    </tr>\n",
       "    <tr>\n",
       "      <td>2</td>\n",
       "      <td>9000</td>\n",
       "      <td>93</td>\n",
       "      <td>1</td>\n",
       "      <td>25</td>\n",
       "      <td>9.0</td>\n",
       "    </tr>\n",
       "    <tr>\n",
       "      <td>3</td>\n",
       "      <td>8000</td>\n",
       "      <td>93</td>\n",
       "      <td>3</td>\n",
       "      <td>31</td>\n",
       "      <td>11.2</td>\n",
       "    </tr>\n",
       "  </tbody>\n",
       "</table>\n",
       "</div>"
      ],
      "text/plain": [
       "     CF  Year  Month  Day  Months Passed\n",
       "0 -5000    92      4   25            0.0\n",
       "1 -1000    92     12   27            8.1\n",
       "2  9000    93      1   25            9.0\n",
       "3  8000    93      3   31           11.2"
      ]
     },
     "execution_count": 5,
     "metadata": {},
     "output_type": "execute_result"
    }
   ],
   "source": [
    "import pylatex as pl\n",
    "import pandas as pd\n",
    "import subprocess\n",
    "\n",
    "####################### functions #######################\n",
    "def create_pdf(filename):\n",
    "    input_filename = file_name + '.tex'\n",
    "    output_filename = file_name\n",
    "    process = subprocess.Popen([\n",
    "        latex_path + 'latex',\n",
    "        '-output-format=pdf',\n",
    "        '-job-name=' + output_filename,\n",
    "        input_filename])\n",
    "    process.wait()\n",
    "\n",
    "####################### Main #######################\n",
    "\n",
    "# Read the data\n",
    "df_original = pd.read_csv(csv_file)\n",
    "df = df_original.copy()\n",
    "df.head()"
   ]
  },
  {
   "cell_type": "code",
   "execution_count": 6,
   "metadata": {},
   "outputs": [],
   "source": [
    "# Calculte DCF\n",
    "df['DCF'] = df.apply(lambda row: row['CF'] / (1.1**row['Months Passed']), axis = 1)\n",
    "SDCF = df['DCF'].sum()\n",
    "if SDCF>=0:\n",
    "    sentence = f'The project has a profit of ${SDCF:,.0f}.'\n",
    "else:\n",
    "    sentence = f'The project has a loss of ${-1 * SDCF:,.0f}.'\n",
    "\n",
    "# Create document\n",
    "doc = pl.Document()\n",
    "doc.packages.append(pl.Package('booktabs'))\n",
    "\n",
    "# Add preamble\n",
    "doc.preamble.append(pl.Command('title', report_title))\n",
    "doc.preamble.append(pl.Command('author', repot_author))\n",
    "doc.preamble.append(pl.Command('date', pl.NoEscape(r'\\today')))\n",
    "doc.append(pl.NoEscape(r'\\maketitle'))\n",
    "\n",
    "# Create section 1\n",
    "with doc.create(pl.Section('Data')):\n",
    "    doc.append('The cash flow data is as follows.')\n",
    "    with doc.create(pl.Table(position='htbp')) as table:\n",
    "        table.add_caption('Cash Flow')\n",
    "        table.append(pl.Command('centering'))\n",
    "        table.append(pl.NoEscape(df_original.to_latex(escape=False, index=False)))\n",
    "\n",
    "# Create section 2\n",
    "with doc.create(pl.Section('Conclusion')):\n",
    "    doc.append(sentence)\n",
    "\n",
    "# Create section 3\n",
    "with doc.create(pl.Section('Appendix')):\n",
    "    doc.append('The discounted cash flow is shown in the table below.')\n",
    "    with doc.create(pl.Table(position='htbp')) as table:\n",
    "        table.add_caption('Discounted Cash Flow')\n",
    "        table.append(pl.Command('centering'))\n",
    "        table.append(pl.NoEscape(df.to_latex(escape=False, index=False)))\n",
    "\n",
    "doc.generate_tex(file_name)\n",
    "# create_pdf(file_name)"
   ]
  }
 ],
 "metadata": {
  "kernelspec": {
   "display_name": "Python 3",
   "language": "python",
   "name": "python3"
  },
  "language_info": {
   "codemirror_mode": {
    "name": "ipython",
    "version": 3
   },
   "file_extension": ".py",
   "mimetype": "text/x-python",
   "name": "python",
   "nbconvert_exporter": "python",
   "pygments_lexer": "ipython3",
   "version": "3.6.9"
  }
 },
 "nbformat": 4,
 "nbformat_minor": 2
}
